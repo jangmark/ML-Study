{
 "cells": [
  {
   "cell_type": "code",
   "execution_count": 1,
   "metadata": {},
   "outputs": [],
   "source": [
    "import pandas as pd\n",
    "import sklearn\n",
    "import seaborn as sns\n",
    "import numpy as np\n",
    "from numpy import nan\n",
    "import re\n",
    "import matplotlib.pyplot as plt\n",
    "from sklearn import preprocessing\n",
    "from sklearn.preprocessing import LabelEncoder, OneHotEncoder, StandardScaler, MinMaxScaler\n",
    "from pycaret.classification import *\n",
    "from sklearn.model_selection import GridSearchCV\n",
    "from sklearn.experimental import enable_iterative_imputer\n",
    "from sklearn.impute import IterativeImputer\n",
    "from sklearn.ensemble import RandomForestRegressor"
   ]
  },
  {
   "cell_type": "code",
   "execution_count": 2,
   "metadata": {},
   "outputs": [],
   "source": [
    "train=pd.read_csv('train.csv')\n",
    "test=pd.read_csv('test.csv')"
   ]
  },
  {
   "cell_type": "code",
   "execution_count": 3,
   "metadata": {},
   "outputs": [],
   "source": [
    "df=pd.concat([train,test])"
   ]
  },
  {
   "cell_type": "code",
   "execution_count": 4,
   "metadata": {},
   "outputs": [],
   "source": [
    "# 서울시 따릉이 데이터\n",
    "# https://data.seoul.go.kr/dataList/OA-21229/F/1/datasetView.do\n",
    "# 서울시 따릉이 10월 1일 이용량 : 260152"
   ]
  },
  {
   "cell_type": "code",
   "execution_count": 5,
   "metadata": {},
   "outputs": [
    {
     "data": {
      "text/plain": [
       "3.9866372440848354"
      ]
     },
     "execution_count": 5,
     "metadata": {},
     "output_type": "execute_result"
    }
   ],
   "source": [
    "# 따릉이 대여소 수 : 2719\n",
    "# 대여소별 시간당 평균 이용량\n",
    "260152/2719/24"
   ]
  },
  {
   "cell_type": "code",
   "execution_count": 6,
   "metadata": {},
   "outputs": [
    {
     "data": {
      "text/plain": [
       "108.56339958875942"
      ]
     },
     "execution_count": 6,
     "metadata": {},
     "output_type": "execute_result"
    }
   ],
   "source": [
    "# 제공된 데이터에서 평균 이용량\n",
    "df['count'].mean()"
   ]
  },
  {
   "cell_type": "code",
   "execution_count": 7,
   "metadata": {},
   "outputs": [
    {
     "data": {
      "text/plain": [
       "27.23182294798458"
      ]
     },
     "execution_count": 7,
     "metadata": {},
     "output_type": "execute_result"
    }
   ],
   "source": [
    "# 대여소 27개 정도의 이용량 합계가 아닌가.. 하는 추측   -> 결론적으로 무의미했음\n",
    "(df['count'].mean())/(260152/2719/24)"
   ]
  },
  {
   "cell_type": "code",
   "execution_count": 8,
   "metadata": {},
   "outputs": [
    {
     "name": "stdout",
     "output_type": "stream",
     "text": [
      "[0] : 17.012359550561797\n",
      "[1] : 16.407692307692304\n",
      "[2] : 16.006593406593407\n",
      "[3] : 15.614285714285712\n",
      "[4] : 15.260439560439558\n",
      "[5] : 14.91666666666667\n",
      "[6] : 14.640659340659342\n",
      "[7] : 14.498901098901097\n",
      "[8] : 14.989010989010989\n",
      "[9] : 16.608791208791207\n",
      "[10] : 18.365934065934066\n",
      "[11] : 20.02747252747253\n",
      "[12] : 21.426373626373625\n",
      "[13] : 22.642222222222223\n",
      "[14] : 23.291208791208792\n",
      "[15] : 23.819780219780213\n",
      "[16] : 24.048314606741574\n",
      "[17] : 23.638202247191014\n",
      "[18] : 22.908988764044942\n",
      "[19] : 21.76888888888889\n",
      "[20] : 20.37142857142857\n",
      "[21] : 19.16741573033708\n",
      "[22] : 18.193406593406593\n",
      "[23] : 17.563736263736264\n"
     ]
    }
   ],
   "source": [
    "for i in range(24):\n",
    "    print(f'[{i}] : {df.hour_bef_temperature[df.hour==i].mean()}')\n",
    "# hour가 7일때 가장 낮음    -> 평균적으로 hour가 7일때 일최저기온\n",
    "# hour가 16일때 가장 높음   -> 평균적으로 hour가 16일때 일최고기온"
   ]
  },
  {
   "cell_type": "code",
   "execution_count": 9,
   "metadata": {},
   "outputs": [],
   "source": [
    "# 월별 최저,최고 기온 데이터\n",
    "# https://data.kma.go.kr/stcs/grnd/grndTaList.do?pgmNo=70"
   ]
  },
  {
   "cell_type": "code",
   "execution_count": 10,
   "metadata": {},
   "outputs": [
    {
     "data": {
      "text/plain": [
       "(array([ 4.,  3.,  1., 16.,  7., 13., 10., 16., 14.,  5.]),\n",
       " array([11.6 , 13.74, 15.88, 18.02, 20.16, 22.3 , 24.44, 26.58, 28.72,\n",
       "        30.86, 33.  ]),\n",
       " <BarContainer object of 10 artists>)"
      ]
     },
     "execution_count": 10,
     "metadata": {},
     "output_type": "execute_result"
    },
    {
     "data": {
      "image/png": "[encoded data removed]",
      "text/plain": [
       "<Figure size 800x550 with 1 Axes>"
      ]
     },
     "metadata": {},
     "output_type": "display_data"
    }
   ],
   "source": [
    "# 일최고기온 4~33   -> 여러 계절동안 측정한 데이터임\n",
    "plt.hist(df.hour_bef_temperature[df.hour==16])"
   ]
  },
  {
   "cell_type": "code",
   "execution_count": 11,
   "metadata": {},
   "outputs": [
    {
     "data": {
      "text/plain": [
       "(array([ 2.,  2.,  7., 12.,  8., 13., 16., 12.,  8., 11.]),\n",
       " array([ 3.1 ,  5.04,  6.98,  8.92, 10.86, 12.8 , 14.74, 16.68, 18.62,\n",
       "        20.56, 22.5 ]),\n",
       " <BarContainer object of 10 artists>)"
      ]
     },
     "execution_count": 11,
     "metadata": {},
     "output_type": "execute_result"
    },
    {
     "data": {
      "image/png": "[encoded data removed]",
      "text/plain": [
       "<Figure size 800x550 with 1 Axes>"
      ]
     },
     "metadata": {},
     "output_type": "display_data"
    }
   ],
   "source": [
    "# 일최저기온 히스토그램\n",
    "plt.hist(df.hour_bef_temperature[df.hour==7])\n",
    "# 일최저기온 2~22 사이임    -> 겨울은 포함되지 않았다   -> 봄,여름 or 여름,가을 or 봄,여름,가을"
   ]
  },
  {
   "cell_type": "code",
   "execution_count": 12,
   "metadata": {},
   "outputs": [],
   "source": [
    "# 여름(6,7,8월) 일최고기온은 평균적으로 27도 이상임\n",
    "# 일최고기온(hour=16) 전체 중에 27도 넘는게 몇%인지 확인    -> 대략 50% -> 봄,여름 or 봄,가을\n",
    "#                                                         -> 대략 33% -> 봄,여름,가을"
   ]
  },
  {
   "cell_type": "code",
   "execution_count": 13,
   "metadata": {},
   "outputs": [
    {
     "data": {
      "text/plain": [
       "89"
      ]
     },
     "execution_count": 13,
     "metadata": {},
     "output_type": "execute_result"
    }
   ],
   "source": [
    "# 일최고기온(hour=16)의 총 갯수 : 89\n",
    "df[df.hour==16].shape[0]"
   ]
  },
  {
   "cell_type": "code",
   "execution_count": 14,
   "metadata": {},
   "outputs": [
    {
     "data": {
      "text/plain": [
       "29"
      ]
     },
     "execution_count": 14,
     "metadata": {},
     "output_type": "execute_result"
    }
   ],
   "source": [
    "# 27도 이상인 데이터 수 : 29\n",
    "df[(df.hour==16)&(df.hour_bef_temperature>27)].shape[0]"
   ]
  },
  {
   "cell_type": "code",
   "execution_count": 15,
   "metadata": {},
   "outputs": [
    {
     "data": {
      "text/plain": [
       "0.3258426966292135"
      ]
     },
     "execution_count": 15,
     "metadata": {},
     "output_type": "execute_result"
    }
   ],
   "source": [
    "# 대략 33%나옴  -> 즉 봄,여름,가을 동안 측정한 데이터임\n",
    "29/89"
   ]
  },
  {
   "cell_type": "code",
   "execution_count": 16,
   "metadata": {},
   "outputs": [
    {
     "data": {
      "text/plain": [
       "id                          0\n",
       "hour                        0\n",
       "hour_bef_temperature        3\n",
       "hour_bef_precipitation      3\n",
       "hour_bef_windspeed         10\n",
       "hour_bef_humidity           3\n",
       "hour_bef_visibility         3\n",
       "hour_bef_ozone            111\n",
       "hour_bef_pm10             127\n",
       "hour_bef_pm2.5            153\n",
       "count                     715\n",
       "dtype: int64"
      ]
     },
     "execution_count": 16,
     "metadata": {},
     "output_type": "execute_result"
    }
   ],
   "source": [
    "df.isna().sum()"
   ]
  },
  {
   "cell_type": "code",
   "execution_count": 17,
   "metadata": {},
   "outputs": [
    {
     "data": {
      "text/html": [
       "<div>\n",
       "<style scoped>\n",
       "    .dataframe tbody tr th:only-of-type {\n",
       "        vertical-align: middle;\n",
       "    }\n",
       "\n",
       "    .dataframe tbody tr th {\n",
       "        vertical-align: top;\n",
       "    }\n",
       "\n",
       "    .dataframe thead th {\n",
       "        text-align: right;\n",
       "    }\n",
       "</style>\n",
       "<table border=\"1\" class=\"dataframe\">\n",
       "  <thead>\n",
       "    <tr style=\"text-align: right;\">\n",
       "      <th></th>\n",
       "      <th>id</th>\n",
       "      <th>hour</th>\n",
       "      <th>hour_bef_temperature</th>\n",
       "      <th>hour_bef_precipitation</th>\n",
       "      <th>hour_bef_windspeed</th>\n",
       "      <th>hour_bef_humidity</th>\n",
       "      <th>hour_bef_visibility</th>\n",
       "      <th>hour_bef_ozone</th>\n",
       "      <th>hour_bef_pm10</th>\n",
       "      <th>hour_bef_pm2.5</th>\n",
       "      <th>count</th>\n",
       "    </tr>\n",
       "  </thead>\n",
       "  <tbody>\n",
       "    <tr>\n",
       "      <th>934</th>\n",
       "      <td>1420</td>\n",
       "      <td>0</td>\n",
       "      <td>NaN</td>\n",
       "      <td>NaN</td>\n",
       "      <td>NaN</td>\n",
       "      <td>NaN</td>\n",
       "      <td>NaN</td>\n",
       "      <td>NaN</td>\n",
       "      <td>NaN</td>\n",
       "      <td>NaN</td>\n",
       "      <td>39.0</td>\n",
       "    </tr>\n",
       "    <tr>\n",
       "      <th>1035</th>\n",
       "      <td>1553</td>\n",
       "      <td>18</td>\n",
       "      <td>NaN</td>\n",
       "      <td>NaN</td>\n",
       "      <td>NaN</td>\n",
       "      <td>NaN</td>\n",
       "      <td>NaN</td>\n",
       "      <td>NaN</td>\n",
       "      <td>NaN</td>\n",
       "      <td>NaN</td>\n",
       "      <td>1.0</td>\n",
       "    </tr>\n",
       "    <tr>\n",
       "      <th>653</th>\n",
       "      <td>1943</td>\n",
       "      <td>19</td>\n",
       "      <td>NaN</td>\n",
       "      <td>NaN</td>\n",
       "      <td>NaN</td>\n",
       "      <td>NaN</td>\n",
       "      <td>NaN</td>\n",
       "      <td>NaN</td>\n",
       "      <td>NaN</td>\n",
       "      <td>NaN</td>\n",
       "      <td>NaN</td>\n",
       "    </tr>\n",
       "  </tbody>\n",
       "</table>\n",
       "</div>"
      ],
      "text/plain": [
       "        id  hour  hour_bef_temperature  hour_bef_precipitation  \\\n",
       "934   1420     0                   NaN                     NaN   \n",
       "1035  1553    18                   NaN                     NaN   \n",
       "653   1943    19                   NaN                     NaN   \n",
       "\n",
       "      hour_bef_windspeed  hour_bef_humidity  hour_bef_visibility  \\\n",
       "934                  NaN                NaN                  NaN   \n",
       "1035                 NaN                NaN                  NaN   \n",
       "653                  NaN                NaN                  NaN   \n",
       "\n",
       "      hour_bef_ozone  hour_bef_pm10  hour_bef_pm2.5  count  \n",
       "934              NaN            NaN             NaN   39.0  \n",
       "1035             NaN            NaN             NaN    1.0  \n",
       "653              NaN            NaN             NaN    NaN  "
      ]
     },
     "execution_count": 17,
     "metadata": {},
     "output_type": "execute_result"
    }
   ],
   "source": [
    "df[df.hour_bef_temperature.isna()]\n",
    "# 가진 정보 거의 없음"
   ]
  },
  {
   "cell_type": "code",
   "execution_count": 18,
   "metadata": {},
   "outputs": [
    {
     "data": {
      "text/html": [
       "<div>\n",
       "<style scoped>\n",
       "    .dataframe tbody tr th:only-of-type {\n",
       "        vertical-align: middle;\n",
       "    }\n",
       "\n",
       "    .dataframe tbody tr th {\n",
       "        vertical-align: top;\n",
       "    }\n",
       "\n",
       "    .dataframe thead th {\n",
       "        text-align: right;\n",
       "    }\n",
       "</style>\n",
       "<table border=\"1\" class=\"dataframe\">\n",
       "  <thead>\n",
       "    <tr style=\"text-align: right;\">\n",
       "      <th></th>\n",
       "      <th>id</th>\n",
       "      <th>hour</th>\n",
       "      <th>hour_bef_temperature</th>\n",
       "      <th>hour_bef_precipitation</th>\n",
       "      <th>hour_bef_windspeed</th>\n",
       "      <th>hour_bef_humidity</th>\n",
       "      <th>hour_bef_visibility</th>\n",
       "      <th>hour_bef_ozone</th>\n",
       "      <th>hour_bef_pm10</th>\n",
       "      <th>hour_bef_pm2.5</th>\n",
       "      <th>count</th>\n",
       "    </tr>\n",
       "  </thead>\n",
       "  <tbody>\n",
       "    <tr>\n",
       "      <th>653</th>\n",
       "      <td>1000</td>\n",
       "      <td>5</td>\n",
       "      <td>11.8</td>\n",
       "      <td>0.0</td>\n",
       "      <td>2.5</td>\n",
       "      <td>21.0</td>\n",
       "      <td>1014.0</td>\n",
       "      <td>0.042</td>\n",
       "      <td>205.0</td>\n",
       "      <td>18.0</td>\n",
       "      <td>6.0</td>\n",
       "    </tr>\n",
       "    <tr>\n",
       "      <th>653</th>\n",
       "      <td>1943</td>\n",
       "      <td>19</td>\n",
       "      <td>NaN</td>\n",
       "      <td>NaN</td>\n",
       "      <td>NaN</td>\n",
       "      <td>NaN</td>\n",
       "      <td>NaN</td>\n",
       "      <td>NaN</td>\n",
       "      <td>NaN</td>\n",
       "      <td>NaN</td>\n",
       "      <td>NaN</td>\n",
       "    </tr>\n",
       "  </tbody>\n",
       "</table>\n",
       "</div>"
      ],
      "text/plain": [
       "       id  hour  hour_bef_temperature  hour_bef_precipitation  \\\n",
       "653  1000     5                  11.8                     0.0   \n",
       "653  1943    19                   NaN                     NaN   \n",
       "\n",
       "     hour_bef_windspeed  hour_bef_humidity  hour_bef_visibility  \\\n",
       "653                 2.5               21.0               1014.0   \n",
       "653                 NaN                NaN                  NaN   \n",
       "\n",
       "     hour_bef_ozone  hour_bef_pm10  hour_bef_pm2.5  count  \n",
       "653           0.042          205.0            18.0    6.0  \n",
       "653             NaN            NaN             NaN    NaN  "
      ]
     },
     "execution_count": 18,
     "metadata": {},
     "output_type": "execute_result"
    }
   ],
   "source": [
    "# 인덱스 기준으로 지우려는데 합쳐진 데이터 프레임이라 인덱스 겹치는거 있음\n",
    "df[df.index==653]"
   ]
  },
  {
   "cell_type": "code",
   "execution_count": 19,
   "metadata": {},
   "outputs": [],
   "source": [
    "df.sort_values(by='id',inplace=True)"
   ]
  },
  {
   "cell_type": "code",
   "execution_count": 20,
   "metadata": {},
   "outputs": [],
   "source": [
    "# 인덱스 재설정\n",
    "df.reset_index(drop=True,inplace=True)"
   ]
  },
  {
   "cell_type": "code",
   "execution_count": 21,
   "metadata": {},
   "outputs": [
    {
     "data": {
      "text/html": [
       "<div>\n",
       "<style scoped>\n",
       "    .dataframe tbody tr th:only-of-type {\n",
       "        vertical-align: middle;\n",
       "    }\n",
       "\n",
       "    .dataframe tbody tr th {\n",
       "        vertical-align: top;\n",
       "    }\n",
       "\n",
       "    .dataframe thead th {\n",
       "        text-align: right;\n",
       "    }\n",
       "</style>\n",
       "<table border=\"1\" class=\"dataframe\">\n",
       "  <thead>\n",
       "    <tr style=\"text-align: right;\">\n",
       "      <th></th>\n",
       "      <th>id</th>\n",
       "      <th>hour</th>\n",
       "      <th>hour_bef_temperature</th>\n",
       "      <th>hour_bef_precipitation</th>\n",
       "      <th>hour_bef_windspeed</th>\n",
       "      <th>hour_bef_humidity</th>\n",
       "      <th>hour_bef_visibility</th>\n",
       "      <th>hour_bef_ozone</th>\n",
       "      <th>hour_bef_pm10</th>\n",
       "      <th>hour_bef_pm2.5</th>\n",
       "      <th>count</th>\n",
       "    </tr>\n",
       "  </thead>\n",
       "  <tbody>\n",
       "    <tr>\n",
       "      <th>1415</th>\n",
       "      <td>1420</td>\n",
       "      <td>0</td>\n",
       "      <td>NaN</td>\n",
       "      <td>NaN</td>\n",
       "      <td>NaN</td>\n",
       "      <td>NaN</td>\n",
       "      <td>NaN</td>\n",
       "      <td>NaN</td>\n",
       "      <td>NaN</td>\n",
       "      <td>NaN</td>\n",
       "      <td>39.0</td>\n",
       "    </tr>\n",
       "    <tr>\n",
       "      <th>1548</th>\n",
       "      <td>1553</td>\n",
       "      <td>18</td>\n",
       "      <td>NaN</td>\n",
       "      <td>NaN</td>\n",
       "      <td>NaN</td>\n",
       "      <td>NaN</td>\n",
       "      <td>NaN</td>\n",
       "      <td>NaN</td>\n",
       "      <td>NaN</td>\n",
       "      <td>NaN</td>\n",
       "      <td>1.0</td>\n",
       "    </tr>\n",
       "    <tr>\n",
       "      <th>1937</th>\n",
       "      <td>1943</td>\n",
       "      <td>19</td>\n",
       "      <td>NaN</td>\n",
       "      <td>NaN</td>\n",
       "      <td>NaN</td>\n",
       "      <td>NaN</td>\n",
       "      <td>NaN</td>\n",
       "      <td>NaN</td>\n",
       "      <td>NaN</td>\n",
       "      <td>NaN</td>\n",
       "      <td>NaN</td>\n",
       "    </tr>\n",
       "  </tbody>\n",
       "</table>\n",
       "</div>"
      ],
      "text/plain": [
       "        id  hour  hour_bef_temperature  hour_bef_precipitation  \\\n",
       "1415  1420     0                   NaN                     NaN   \n",
       "1548  1553    18                   NaN                     NaN   \n",
       "1937  1943    19                   NaN                     NaN   \n",
       "\n",
       "      hour_bef_windspeed  hour_bef_humidity  hour_bef_visibility  \\\n",
       "1415                 NaN                NaN                  NaN   \n",
       "1548                 NaN                NaN                  NaN   \n",
       "1937                 NaN                NaN                  NaN   \n",
       "\n",
       "      hour_bef_ozone  hour_bef_pm10  hour_bef_pm2.5  count  \n",
       "1415             NaN            NaN             NaN   39.0  \n",
       "1548             NaN            NaN             NaN    1.0  \n",
       "1937             NaN            NaN             NaN    NaN  "
      ]
     },
     "execution_count": 21,
     "metadata": {},
     "output_type": "execute_result"
    }
   ],
   "source": [
    "df[(df.id==1420)|(df.id==1553)|(df.id==1943)]"
   ]
  },
  {
   "cell_type": "code",
   "execution_count": 22,
   "metadata": {},
   "outputs": [],
   "source": [
    "# id=1943인 행은 test데이터임...\n",
    "# id=1943, hour=19 나머지는 다 nan\n",
    "# 일단 다 삭제하고 id=1943만 나중에 나머지 데이터 결측치 처리 다 하고나서 hour=19인 데이터의 평균으로 채우던지 해야될듯\n",
    "df.drop(index=[1415,1548,1937],axis=0,inplace=True)"
   ]
  },
  {
   "cell_type": "code",
   "execution_count": 23,
   "metadata": {},
   "outputs": [],
   "source": [
    "# hour, temp 기준으로 정렬해서 위아래값 평균으로 windspeed 대체\n",
    "df.sort_values(by=['hour','hour_bef_temperature'],inplace=True)\n",
    "df.hour_bef_windspeed.interpolate(inplace=True)"
   ]
  },
  {
   "cell_type": "code",
   "execution_count": 24,
   "metadata": {},
   "outputs": [
    {
     "data": {
      "text/plain": [
       "id                          0\n",
       "hour                        0\n",
       "hour_bef_temperature        0\n",
       "hour_bef_precipitation      0\n",
       "hour_bef_windspeed          0\n",
       "hour_bef_humidity           0\n",
       "hour_bef_visibility         0\n",
       "hour_bef_ozone            108\n",
       "hour_bef_pm10             124\n",
       "hour_bef_pm2.5            150\n",
       "count                     714\n",
       "dtype: int64"
      ]
     },
     "execution_count": 24,
     "metadata": {},
     "output_type": "execute_result"
    }
   ],
   "source": [
    "df.isna().sum()"
   ]
  },
  {
   "cell_type": "code",
   "execution_count": 25,
   "metadata": {},
   "outputs": [],
   "source": [
    "# 시간, 기온순으로 정렬\n",
    "df.sort_values(by=['hour','hour_bef_temperature'],inplace=True)"
   ]
  },
  {
   "cell_type": "code",
   "execution_count": 26,
   "metadata": {},
   "outputs": [],
   "source": [
    "# 빈 데이터 프레임\n",
    "spring=df[df.hour==24]\n",
    "summer=df[df.hour==24]\n",
    "fall=df[df.hour==24]\n",
    "other=df[df.hour==24]"
   ]
  },
  {
   "cell_type": "code",
   "execution_count": 27,
   "metadata": {},
   "outputs": [],
   "source": [
    "# 시간별로 기온 상위33%만 summer 데이터\n",
    "# 나머지는 기온으로 구분안되니 일단 합쳐서 other에 저장\n",
    "for i in range(0,24):\n",
    "    tmp=df[df.hour==i].iloc[:round(df[df.hour==i].shape[0]/3),]\n",
    "    tmp1=df[df.hour==i].iloc[round(df[df.hour==i].shape[0]/3):,]\n",
    "    summer=pd.concat([summer,tmp])\n",
    "    other=pd.concat([other,tmp1])"
   ]
  },
  {
   "cell_type": "code",
   "execution_count": 28,
   "metadata": {},
   "outputs": [
    {
     "data": {
      "text/plain": [
       "True"
      ]
     },
     "execution_count": 28,
     "metadata": {},
     "output_type": "execute_result"
    }
   ],
   "source": [
    "# 잘 나눠졌는지 확인\n",
    "df.shape[0]==summer.shape[0]+other.shape[0]"
   ]
  },
  {
   "cell_type": "code",
   "execution_count": 29,
   "metadata": {},
   "outputs": [
    {
     "data": {
      "text/plain": [
       "id                         0\n",
       "hour                       0\n",
       "hour_bef_temperature       0\n",
       "hour_bef_precipitation     0\n",
       "hour_bef_windspeed         0\n",
       "hour_bef_humidity          0\n",
       "hour_bef_visibility        0\n",
       "hour_bef_ozone            33\n",
       "hour_bef_pm10             43\n",
       "hour_bef_pm2.5            67\n",
       "count                     12\n",
       "dtype: int64"
      ]
     },
     "execution_count": 29,
     "metadata": {},
     "output_type": "execute_result"
    }
   ],
   "source": [
    "summer.isna().sum()"
   ]
  },
  {
   "cell_type": "code",
   "execution_count": 30,
   "metadata": {},
   "outputs": [],
   "source": [
    "# https://cleanair.seoul.go.kr/statistics/monthAverage\n",
    "# 마포구 월별 오존, 미세먼지 데이터\n",
    "# 여름 평균 오존,미세먼지,초미세먼지 : 0.036,20.67 ,12.67"
   ]
  },
  {
   "cell_type": "code",
   "execution_count": 31,
   "metadata": {},
   "outputs": [],
   "source": [
    "summer.hour_bef_ozone[summer.hour_bef_ozone.isna()]=0.036\n",
    "summer.hour_bef_pm10[summer.hour_bef_pm10.isna()]=21\n",
    "summer['hour_bef_pm2.5'][summer['hour_bef_pm2.5'].isna()]=13"
   ]
  },
  {
   "cell_type": "code",
   "execution_count": 32,
   "metadata": {},
   "outputs": [],
   "source": [
    "# https://cleanair.seoul.go.kr/statistics/monthAverage\n",
    "# 마포구 월별 오존, 미세먼지 데이터\n",
    "# -> 봄이 가을보다 오존, 미세먼지 높음\n",
    "# -> 오존, 미세먼지 기준으로 봄, 가을 나누고 싶음"
   ]
  },
  {
   "cell_type": "code",
   "execution_count": 33,
   "metadata": {},
   "outputs": [
    {
     "data": {
      "text/plain": [
       "1451"
      ]
     },
     "execution_count": 33,
     "metadata": {},
     "output_type": "execute_result"
    }
   ],
   "source": [
    "other.shape[0]"
   ]
  },
  {
   "cell_type": "code",
   "execution_count": 34,
   "metadata": {},
   "outputs": [
    {
     "data": {
      "text/plain": [
       "id                          0\n",
       "hour                        0\n",
       "hour_bef_temperature        0\n",
       "hour_bef_precipitation      0\n",
       "hour_bef_windspeed          0\n",
       "hour_bef_humidity           0\n",
       "hour_bef_visibility         0\n",
       "hour_bef_ozone             75\n",
       "hour_bef_pm10              81\n",
       "hour_bef_pm2.5             83\n",
       "count                     702\n",
       "dtype: int64"
      ]
     },
     "execution_count": 34,
     "metadata": {},
     "output_type": "execute_result"
    }
   ],
   "source": [
    "# 봄,가을 데이터는 1450중 75개,81,83 결측\n",
    "other.isna().sum()"
   ]
  },
  {
   "cell_type": "code",
   "execution_count": 35,
   "metadata": {},
   "outputs": [
    {
     "data": {
      "text/plain": [
       "(0.041644622093023255, 46.65985401459854, 27.507309941520468)"
      ]
     },
     "execution_count": 35,
     "metadata": {},
     "output_type": "execute_result"
    }
   ],
   "source": [
    "other.hour_bef_ozone.mean(),other.hour_bef_pm10.mean(),other['hour_bef_pm2.5'].mean()"
   ]
  },
  {
   "cell_type": "code",
   "execution_count": 36,
   "metadata": {},
   "outputs": [],
   "source": [
    "# 결측치 일단은 other의 평균으로 대체\n",
    "other.hour_bef_ozone[other.hour_bef_ozone.isna()]=0.0416\n",
    "other.hour_bef_pm10[other.hour_bef_pm10.isna()]=47\n",
    "other['hour_bef_pm2.5'][other['hour_bef_pm2.5'].isna()]=28"
   ]
  },
  {
   "cell_type": "code",
   "execution_count": 37,
   "metadata": {},
   "outputs": [],
   "source": [
    "# 봄,가을을  기준으로 정렬해서 나누기\n",
    "other.sort_values(by=['hour','hour_bef_ozone','hour_bef_pm10'],inplace=True)"
   ]
  },
  {
   "cell_type": "code",
   "execution_count": 38,
   "metadata": {},
   "outputs": [],
   "source": [
    "for i in range(0,24):\n",
    "    tmp=other[other.hour==i].iloc[:round(other[other.hour==i].shape[0]/2),]\n",
    "    tmp1=other[other.hour==i].iloc[round(other[other.hour==i].shape[0]/2):,]\n",
    "    spring=pd.concat([spring,tmp1])\n",
    "    fall=pd.concat([fall,tmp])"
   ]
  },
  {
   "cell_type": "code",
   "execution_count": 39,
   "metadata": {},
   "outputs": [
    {
     "data": {
      "text/plain": [
       "True"
      ]
     },
     "execution_count": 39,
     "metadata": {},
     "output_type": "execute_result"
    }
   ],
   "source": [
    "# 계절 별로 겹치지않고 잘 나눠졌는지 확인\n",
    "df.shape[0]==summer.shape[0]+fall.shape[0]+spring.shape[0]"
   ]
  },
  {
   "cell_type": "code",
   "execution_count": 40,
   "metadata": {},
   "outputs": [],
   "source": [
    "# 위에서 other의 평균으로 대체 해주었던 데이터들 각각 봄,가을의 평균으로 다시 대체\n",
    "# 봄 오존,미세,초미세 : 0.0393, 37.67, 18\n",
    "# 가을 오존,미세,초미세 : 0.023, 26.67, 17\n",
    "summer.hour_bef_ozone[summer.hour_bef_ozone==0.0416]=0.0393\n",
    "summer.hour_bef_pm10[summer.hour_bef_pm10==47]=38\n",
    "summer['hour_bef_pm2.5'][summer['hour_bef_pm2.5']==28]=18\n",
    "fall.hour_bef_ozone[fall.hour_bef_ozone==0.0416]=0.023\n",
    "fall.hour_bef_pm10[fall.hour_bef_pm10==47]=27\n",
    "fall['hour_bef_pm2.5'][fall['hour_bef_pm2.5']==28]=17"
   ]
  },
  {
   "cell_type": "code",
   "execution_count": 41,
   "metadata": {},
   "outputs": [],
   "source": [
    "im_df=pd.concat([spring,summer,fall])"
   ]
  },
  {
   "cell_type": "code",
   "execution_count": 42,
   "metadata": {},
   "outputs": [],
   "source": [
    "im_df.reset_index(drop=True,inplace=True)"
   ]
  },
  {
   "cell_type": "code",
   "execution_count": 43,
   "metadata": {},
   "outputs": [
    {
     "data": {
      "text/plain": [
       "(2171, 11)"
      ]
     },
     "execution_count": 43,
     "metadata": {},
     "output_type": "execute_result"
    }
   ],
   "source": [
    "im_df.shape"
   ]
  },
  {
   "cell_type": "code",
   "execution_count": 44,
   "metadata": {},
   "outputs": [
    {
     "data": {
      "text/html": [
       "<div>\n",
       "<style scoped>\n",
       "    .dataframe tbody tr th:only-of-type {\n",
       "        vertical-align: middle;\n",
       "    }\n",
       "\n",
       "    .dataframe tbody tr th {\n",
       "        vertical-align: top;\n",
       "    }\n",
       "\n",
       "    .dataframe thead th {\n",
       "        text-align: right;\n",
       "    }\n",
       "</style>\n",
       "<table border=\"1\" class=\"dataframe\">\n",
       "  <thead>\n",
       "    <tr style=\"text-align: right;\">\n",
       "      <th></th>\n",
       "      <th>id</th>\n",
       "      <th>hour</th>\n",
       "      <th>hour_bef_temperature</th>\n",
       "      <th>hour_bef_precipitation</th>\n",
       "      <th>hour_bef_windspeed</th>\n",
       "      <th>hour_bef_humidity</th>\n",
       "      <th>hour_bef_visibility</th>\n",
       "      <th>hour_bef_ozone</th>\n",
       "      <th>hour_bef_pm10</th>\n",
       "      <th>hour_bef_pm2.5</th>\n",
       "      <th>count</th>\n",
       "    </tr>\n",
       "  </thead>\n",
       "  <tbody>\n",
       "    <tr>\n",
       "      <th>2166</th>\n",
       "      <td>327</td>\n",
       "      <td>23</td>\n",
       "      <td>25.1</td>\n",
       "      <td>0.0</td>\n",
       "      <td>1.5</td>\n",
       "      <td>53.0</td>\n",
       "      <td>2000.0</td>\n",
       "      <td>0.031</td>\n",
       "      <td>30.0</td>\n",
       "      <td>19.0</td>\n",
       "      <td>NaN</td>\n",
       "    </tr>\n",
       "    <tr>\n",
       "      <th>2167</th>\n",
       "      <td>869</td>\n",
       "      <td>23</td>\n",
       "      <td>18.0</td>\n",
       "      <td>0.0</td>\n",
       "      <td>1.4</td>\n",
       "      <td>36.0</td>\n",
       "      <td>1051.0</td>\n",
       "      <td>0.031</td>\n",
       "      <td>166.0</td>\n",
       "      <td>36.0</td>\n",
       "      <td>131.0</td>\n",
       "    </tr>\n",
       "    <tr>\n",
       "      <th>2168</th>\n",
       "      <td>348</td>\n",
       "      <td>23</td>\n",
       "      <td>17.5</td>\n",
       "      <td>0.0</td>\n",
       "      <td>3.9</td>\n",
       "      <td>83.0</td>\n",
       "      <td>1884.0</td>\n",
       "      <td>0.032</td>\n",
       "      <td>26.0</td>\n",
       "      <td>20.0</td>\n",
       "      <td>NaN</td>\n",
       "    </tr>\n",
       "    <tr>\n",
       "      <th>2169</th>\n",
       "      <td>652</td>\n",
       "      <td>23</td>\n",
       "      <td>25.6</td>\n",
       "      <td>0.0</td>\n",
       "      <td>3.9</td>\n",
       "      <td>42.0</td>\n",
       "      <td>2000.0</td>\n",
       "      <td>0.032</td>\n",
       "      <td>42.0</td>\n",
       "      <td>32.0</td>\n",
       "      <td>NaN</td>\n",
       "    </tr>\n",
       "    <tr>\n",
       "      <th>2170</th>\n",
       "      <td>937</td>\n",
       "      <td>23</td>\n",
       "      <td>22.1</td>\n",
       "      <td>0.0</td>\n",
       "      <td>1.5</td>\n",
       "      <td>80.0</td>\n",
       "      <td>1563.0</td>\n",
       "      <td>0.033</td>\n",
       "      <td>21.0</td>\n",
       "      <td>19.0</td>\n",
       "      <td>NaN</td>\n",
       "    </tr>\n",
       "  </tbody>\n",
       "</table>\n",
       "</div>"
      ],
      "text/plain": [
       "       id  hour  hour_bef_temperature  hour_bef_precipitation  \\\n",
       "2166  327    23                  25.1                     0.0   \n",
       "2167  869    23                  18.0                     0.0   \n",
       "2168  348    23                  17.5                     0.0   \n",
       "2169  652    23                  25.6                     0.0   \n",
       "2170  937    23                  22.1                     0.0   \n",
       "\n",
       "      hour_bef_windspeed  hour_bef_humidity  hour_bef_visibility  \\\n",
       "2166                 1.5               53.0               2000.0   \n",
       "2167                 1.4               36.0               1051.0   \n",
       "2168                 3.9               83.0               1884.0   \n",
       "2169                 3.9               42.0               2000.0   \n",
       "2170                 1.5               80.0               1563.0   \n",
       "\n",
       "      hour_bef_ozone  hour_bef_pm10  hour_bef_pm2.5  count  \n",
       "2166           0.031           30.0            19.0    NaN  \n",
       "2167           0.031          166.0            36.0  131.0  \n",
       "2168           0.032           26.0            20.0    NaN  \n",
       "2169           0.032           42.0            32.0    NaN  \n",
       "2170           0.033           21.0            19.0    NaN  "
      ]
     },
     "execution_count": 44,
     "metadata": {},
     "output_type": "execute_result"
    }
   ],
   "source": [
    "im_df.tail()"
   ]
  },
  {
   "cell_type": "code",
   "execution_count": 45,
   "metadata": {},
   "outputs": [],
   "source": [
    "# 초반에 지운 test데이터 다시 추가\n",
    "im_df.loc[2171]=[1943,19,im_df.hour_bef_temperature.mean(), round(im_df.hour_bef_precipitation.mean()),\n",
    "                 im_df.hour_bef_windspeed.mean(), round(im_df.hour_bef_humidity.mean()), round(im_df.hour_bef_visibility.mean()),\n",
    "                 im_df.hour_bef_ozone.mean(), round(im_df.hour_bef_pm10.mean()), round(im_df['hour_bef_pm2.5'].mean()), np.nan]"
   ]
  },
  {
   "cell_type": "code",
   "execution_count": 46,
   "metadata": {},
   "outputs": [
    {
     "data": {
      "text/html": [
       "<div>\n",
       "<style scoped>\n",
       "    .dataframe tbody tr th:only-of-type {\n",
       "        vertical-align: middle;\n",
       "    }\n",
       "\n",
       "    .dataframe tbody tr th {\n",
       "        vertical-align: top;\n",
       "    }\n",
       "\n",
       "    .dataframe thead th {\n",
       "        text-align: right;\n",
       "    }\n",
       "</style>\n",
       "<table border=\"1\" class=\"dataframe\">\n",
       "  <thead>\n",
       "    <tr style=\"text-align: right;\">\n",
       "      <th></th>\n",
       "      <th>id</th>\n",
       "      <th>hour</th>\n",
       "      <th>hour_bef_temperature</th>\n",
       "      <th>hour_bef_precipitation</th>\n",
       "      <th>hour_bef_windspeed</th>\n",
       "      <th>hour_bef_humidity</th>\n",
       "      <th>hour_bef_visibility</th>\n",
       "      <th>hour_bef_ozone</th>\n",
       "      <th>hour_bef_pm10</th>\n",
       "      <th>hour_bef_pm2.5</th>\n",
       "      <th>count</th>\n",
       "    </tr>\n",
       "  </thead>\n",
       "  <tbody>\n",
       "    <tr>\n",
       "      <th>2167</th>\n",
       "      <td>869.0</td>\n",
       "      <td>23.0</td>\n",
       "      <td>18.000000</td>\n",
       "      <td>0.0</td>\n",
       "      <td>1.400000</td>\n",
       "      <td>36.0</td>\n",
       "      <td>1051.0</td>\n",
       "      <td>0.031000</td>\n",
       "      <td>166.0</td>\n",
       "      <td>36.0</td>\n",
       "      <td>131.0</td>\n",
       "    </tr>\n",
       "    <tr>\n",
       "      <th>2168</th>\n",
       "      <td>348.0</td>\n",
       "      <td>23.0</td>\n",
       "      <td>17.500000</td>\n",
       "      <td>0.0</td>\n",
       "      <td>3.900000</td>\n",
       "      <td>83.0</td>\n",
       "      <td>1884.0</td>\n",
       "      <td>0.032000</td>\n",
       "      <td>26.0</td>\n",
       "      <td>20.0</td>\n",
       "      <td>NaN</td>\n",
       "    </tr>\n",
       "    <tr>\n",
       "      <th>2169</th>\n",
       "      <td>652.0</td>\n",
       "      <td>23.0</td>\n",
       "      <td>25.600000</td>\n",
       "      <td>0.0</td>\n",
       "      <td>3.900000</td>\n",
       "      <td>42.0</td>\n",
       "      <td>2000.0</td>\n",
       "      <td>0.032000</td>\n",
       "      <td>42.0</td>\n",
       "      <td>32.0</td>\n",
       "      <td>NaN</td>\n",
       "    </tr>\n",
       "    <tr>\n",
       "      <th>2170</th>\n",
       "      <td>937.0</td>\n",
       "      <td>23.0</td>\n",
       "      <td>22.100000</td>\n",
       "      <td>0.0</td>\n",
       "      <td>1.500000</td>\n",
       "      <td>80.0</td>\n",
       "      <td>1563.0</td>\n",
       "      <td>0.033000</td>\n",
       "      <td>21.0</td>\n",
       "      <td>19.0</td>\n",
       "      <td>NaN</td>\n",
       "    </tr>\n",
       "    <tr>\n",
       "      <th>2171</th>\n",
       "      <td>1943.0</td>\n",
       "      <td>19.0</td>\n",
       "      <td>18.870244</td>\n",
       "      <td>0.0</td>\n",
       "      <td>2.450161</td>\n",
       "      <td>54.0</td>\n",
       "      <td>1390.0</td>\n",
       "      <td>0.039493</td>\n",
       "      <td>49.0</td>\n",
       "      <td>28.0</td>\n",
       "      <td>NaN</td>\n",
       "    </tr>\n",
       "  </tbody>\n",
       "</table>\n",
       "</div>"
      ],
      "text/plain": [
       "          id  hour  hour_bef_temperature  hour_bef_precipitation  \\\n",
       "2167   869.0  23.0             18.000000                     0.0   \n",
       "2168   348.0  23.0             17.500000                     0.0   \n",
       "2169   652.0  23.0             25.600000                     0.0   \n",
       "2170   937.0  23.0             22.100000                     0.0   \n",
       "2171  1943.0  19.0             18.870244                     0.0   \n",
       "\n",
       "      hour_bef_windspeed  hour_bef_humidity  hour_bef_visibility  \\\n",
       "2167            1.400000               36.0               1051.0   \n",
       "2168            3.900000               83.0               1884.0   \n",
       "2169            3.900000               42.0               2000.0   \n",
       "2170            1.500000               80.0               1563.0   \n",
       "2171            2.450161               54.0               1390.0   \n",
       "\n",
       "      hour_bef_ozone  hour_bef_pm10  hour_bef_pm2.5  count  \n",
       "2167        0.031000          166.0            36.0  131.0  \n",
       "2168        0.032000           26.0            20.0    NaN  \n",
       "2169        0.032000           42.0            32.0    NaN  \n",
       "2170        0.033000           21.0            19.0    NaN  \n",
       "2171        0.039493           49.0            28.0    NaN  "
      ]
     },
     "execution_count": 46,
     "metadata": {},
     "output_type": "execute_result"
    }
   ],
   "source": [
    "im_df.tail()"
   ]
  },
  {
   "cell_type": "code",
   "execution_count": 47,
   "metadata": {},
   "outputs": [
    {
     "name": "stdout",
     "output_type": "stream",
     "text": [
      "<class 'pandas.core.frame.DataFrame'>\n",
      "Int64Index: 2172 entries, 0 to 2171\n",
      "Data columns (total 11 columns):\n",
      " #   Column                  Non-Null Count  Dtype  \n",
      "---  ------                  --------------  -----  \n",
      " 0   id                      2172 non-null   float64\n",
      " 1   hour                    2172 non-null   float64\n",
      " 2   hour_bef_temperature    2172 non-null   float64\n",
      " 3   hour_bef_precipitation  2172 non-null   float64\n",
      " 4   hour_bef_windspeed      2172 non-null   float64\n",
      " 5   hour_bef_humidity       2172 non-null   float64\n",
      " 6   hour_bef_visibility     2172 non-null   float64\n",
      " 7   hour_bef_ozone          2172 non-null   float64\n",
      " 8   hour_bef_pm10           2172 non-null   float64\n",
      " 9   hour_bef_pm2.5          2172 non-null   float64\n",
      " 10  count                   1457 non-null   float64\n",
      "dtypes: float64(11)\n",
      "memory usage: 203.6 KB\n"
     ]
    }
   ],
   "source": [
    "im_df.info()"
   ]
  },
  {
   "cell_type": "code",
   "execution_count": 48,
   "metadata": {},
   "outputs": [],
   "source": [
    "x_train=pd.merge(train[['id']],im_df,how='inner')"
   ]
  },
  {
   "cell_type": "code",
   "execution_count": 49,
   "metadata": {},
   "outputs": [],
   "source": [
    "x_test=pd.merge(test[['id']],im_df,how='inner')"
   ]
  },
  {
   "cell_type": "code",
   "execution_count": 50,
   "metadata": {},
   "outputs": [],
   "source": [
    "# x_train.drop('id',axis=1,inplace=True)\n",
    "# x_test.drop('id',axis=1,inplace=True)\n",
    "x_test.drop('count',axis=1,inplace=True)\n",
    "x_test.hour_bef_precipitation=test.hour_bef_precipitation.astype('category')\n",
    "x_train.hour_bef_precipitation=train.hour_bef_precipitation.astype('category')\n",
    "x_train.hour=train.hour.astype('category')\n",
    "x_test.hour=test.hour.astype('category')\n",
    "# train.hour_bef_humidity=train.hour_bef_humidity.astype('int64')\n",
    "# test.hour_bef_humidity=test.hour_bef_humidity.astype('int64')\n",
    "# train.hour_bef_visibility=train.hour_bef_visibility.astype('int64')\n",
    "# test.hour_bef_visibility=test.hour_bef_visibility.astype('int64')\n",
    "# train.hour_bef_pm10=train.hour_bef_pm10.astype('int64')\n",
    "# test.hour_bef_pm10=test.hour_bef_pm10.astype('int64')\n",
    "# train['hour_bef_pm2.5']=train['hour_bef_pm2.5'].astype('int64')\n",
    "# test['hour_bef_pm2.5']=test['hour_bef_pm2.5'].astype('int64')\n",
    "# train['count']=train['count'].astype('int64')"
   ]
  },
  {
   "cell_type": "code",
   "execution_count": 51,
   "metadata": {},
   "outputs": [],
   "source": [
    "y_train=x_train[['count']]\n",
    "x_train.drop('count',axis=1,inplace=True)"
   ]
  },
  {
   "cell_type": "code",
   "execution_count": 52,
   "metadata": {},
   "outputs": [],
   "source": [
    "x_train.hour_bef_precipitation[x_train.hour_bef_precipitation.isna()]=0"
   ]
  },
  {
   "cell_type": "code",
   "execution_count": 53,
   "metadata": {},
   "outputs": [],
   "source": [
    "x_test.hour_bef_precipitation[x_test.hour_bef_precipitation.isna()]=0"
   ]
  },
  {
   "cell_type": "code",
   "execution_count": 54,
   "metadata": {},
   "outputs": [
    {
     "data": {
      "text/plain": [
       "id                        0\n",
       "hour                      0\n",
       "hour_bef_temperature      0\n",
       "hour_bef_precipitation    0\n",
       "hour_bef_windspeed        0\n",
       "hour_bef_humidity         0\n",
       "hour_bef_visibility       0\n",
       "hour_bef_ozone            0\n",
       "hour_bef_pm10             0\n",
       "hour_bef_pm2.5            0\n",
       "dtype: int64"
      ]
     },
     "execution_count": 54,
     "metadata": {},
     "output_type": "execute_result"
    }
   ],
   "source": [
    "x_test.isna().sum()"
   ]
  },
  {
   "cell_type": "code",
   "execution_count": 55,
   "metadata": {},
   "outputs": [
    {
     "data": {
      "text/plain": [
       "id                        0\n",
       "hour                      0\n",
       "hour_bef_temperature      0\n",
       "hour_bef_precipitation    0\n",
       "hour_bef_windspeed        0\n",
       "hour_bef_humidity         0\n",
       "hour_bef_visibility       0\n",
       "hour_bef_ozone            0\n",
       "hour_bef_pm10             0\n",
       "hour_bef_pm2.5            0\n",
       "dtype: int64"
      ]
     },
     "execution_count": 55,
     "metadata": {},
     "output_type": "execute_result"
    }
   ],
   "source": [
    "x_train.isna().sum()"
   ]
  },
  {
   "cell_type": "code",
   "execution_count": 56,
   "metadata": {},
   "outputs": [],
   "source": [
    "rfr = RandomForestRegressor(n_estimators=100, random_state=42)\n",
    "\n",
    "# 모델 학습\n",
    "rfr.fit(x_train, y_train)\n",
    "\n",
    "# 테스트 데이터로 예측\n",
    "y_pred = rfr.predict(x_test)"
   ]
  },
  {
   "cell_type": "code",
   "execution_count": 57,
   "metadata": {},
   "outputs": [],
   "source": [
    "subb=pd.read_csv('submission.csv')"
   ]
  },
  {
   "cell_type": "code",
   "execution_count": 58,
   "metadata": {},
   "outputs": [],
   "source": [
    "subb['count']=y_pred"
   ]
  },
  {
   "cell_type": "code",
   "execution_count": 59,
   "metadata": {},
   "outputs": [],
   "source": [
    "subb.to_csv('따릉1.csv',index=False)"
   ]
  },
  {
   "cell_type": "code",
   "execution_count": 60,
   "metadata": {},
   "outputs": [],
   "source": [
    "# ------------------------------------ 따릉2"
   ]
  },
  {
   "cell_type": "code",
   "execution_count": 61,
   "metadata": {},
   "outputs": [
    {
     "data": {
      "text/html": [
       "<div>\n",
       "<style scoped>\n",
       "    .dataframe tbody tr th:only-of-type {\n",
       "        vertical-align: middle;\n",
       "    }\n",
       "\n",
       "    .dataframe tbody tr th {\n",
       "        vertical-align: top;\n",
       "    }\n",
       "\n",
       "    .dataframe thead th {\n",
       "        text-align: right;\n",
       "    }\n",
       "</style>\n",
       "<table border=\"1\" class=\"dataframe\">\n",
       "  <thead>\n",
       "    <tr style=\"text-align: right;\">\n",
       "      <th></th>\n",
       "      <th>id</th>\n",
       "      <th>hour</th>\n",
       "      <th>hour_bef_temperature</th>\n",
       "      <th>hour_bef_precipitation</th>\n",
       "      <th>hour_bef_windspeed</th>\n",
       "      <th>hour_bef_humidity</th>\n",
       "      <th>hour_bef_visibility</th>\n",
       "      <th>hour_bef_ozone</th>\n",
       "      <th>hour_bef_pm10</th>\n",
       "      <th>hour_bef_pm2.5</th>\n",
       "      <th>count</th>\n",
       "    </tr>\n",
       "  </thead>\n",
       "  <tbody>\n",
       "    <tr>\n",
       "      <th>0</th>\n",
       "      <td>1578.0</td>\n",
       "      <td>0.0</td>\n",
       "      <td>18.3</td>\n",
       "      <td>0.0</td>\n",
       "      <td>2.6</td>\n",
       "      <td>47.0</td>\n",
       "      <td>2000.0</td>\n",
       "      <td>0.033</td>\n",
       "      <td>49.0</td>\n",
       "      <td>32.0</td>\n",
       "      <td>107.0</td>\n",
       "    </tr>\n",
       "    <tr>\n",
       "      <th>1</th>\n",
       "      <td>984.0</td>\n",
       "      <td>0.0</td>\n",
       "      <td>14.9</td>\n",
       "      <td>0.0</td>\n",
       "      <td>2.4</td>\n",
       "      <td>35.0</td>\n",
       "      <td>2000.0</td>\n",
       "      <td>0.034</td>\n",
       "      <td>55.0</td>\n",
       "      <td>20.0</td>\n",
       "      <td>68.0</td>\n",
       "    </tr>\n",
       "    <tr>\n",
       "      <th>2</th>\n",
       "      <td>559.0</td>\n",
       "      <td>0.0</td>\n",
       "      <td>15.4</td>\n",
       "      <td>0.0</td>\n",
       "      <td>2.4</td>\n",
       "      <td>41.0</td>\n",
       "      <td>2000.0</td>\n",
       "      <td>0.035</td>\n",
       "      <td>26.0</td>\n",
       "      <td>11.0</td>\n",
       "      <td>80.0</td>\n",
       "    </tr>\n",
       "    <tr>\n",
       "      <th>3</th>\n",
       "      <td>825.0</td>\n",
       "      <td>0.0</td>\n",
       "      <td>14.8</td>\n",
       "      <td>1.0</td>\n",
       "      <td>2.8</td>\n",
       "      <td>97.0</td>\n",
       "      <td>356.0</td>\n",
       "      <td>0.036</td>\n",
       "      <td>12.0</td>\n",
       "      <td>11.0</td>\n",
       "      <td>NaN</td>\n",
       "    </tr>\n",
       "    <tr>\n",
       "      <th>4</th>\n",
       "      <td>447.0</td>\n",
       "      <td>0.0</td>\n",
       "      <td>24.2</td>\n",
       "      <td>0.0</td>\n",
       "      <td>1.2</td>\n",
       "      <td>70.0</td>\n",
       "      <td>1050.0</td>\n",
       "      <td>0.036</td>\n",
       "      <td>27.0</td>\n",
       "      <td>22.0</td>\n",
       "      <td>NaN</td>\n",
       "    </tr>\n",
       "  </tbody>\n",
       "</table>\n",
       "</div>"
      ],
      "text/plain": [
       "       id  hour  hour_bef_temperature  hour_bef_precipitation  \\\n",
       "0  1578.0   0.0                  18.3                     0.0   \n",
       "1   984.0   0.0                  14.9                     0.0   \n",
       "2   559.0   0.0                  15.4                     0.0   \n",
       "3   825.0   0.0                  14.8                     1.0   \n",
       "4   447.0   0.0                  24.2                     0.0   \n",
       "\n",
       "   hour_bef_windspeed  hour_bef_humidity  hour_bef_visibility  hour_bef_ozone  \\\n",
       "0                 2.6               47.0               2000.0           0.033   \n",
       "1                 2.4               35.0               2000.0           0.034   \n",
       "2                 2.4               41.0               2000.0           0.035   \n",
       "3                 2.8               97.0                356.0           0.036   \n",
       "4                 1.2               70.0               1050.0           0.036   \n",
       "\n",
       "   hour_bef_pm10  hour_bef_pm2.5  count  \n",
       "0           49.0            32.0  107.0  \n",
       "1           55.0            20.0   68.0  \n",
       "2           26.0            11.0   80.0  \n",
       "3           12.0            11.0    NaN  \n",
       "4           27.0            22.0    NaN  "
      ]
     },
     "execution_count": 61,
     "metadata": {},
     "output_type": "execute_result"
    }
   ],
   "source": [
    "im_df.head()"
   ]
  },
  {
   "cell_type": "code",
   "execution_count": 62,
   "metadata": {},
   "outputs": [],
   "source": [
    "# IterativeImputer 결측치 없애기\n",
    "colnames=im_df.columns[:]\n",
    "df3=im_df.iloc[:,:]\n",
    "imputer = IterativeImputer(random_state=2023)\n",
    "df3 = imputer.fit_transform(df3)\n",
    "df3 = pd.DataFrame(df3)\n",
    "df3.columns = colnames"
   ]
  },
  {
   "cell_type": "code",
   "execution_count": 63,
   "metadata": {},
   "outputs": [],
   "source": [
    "test2=pd.merge(test[['id']],df3,how='inner')"
   ]
  },
  {
   "cell_type": "code",
   "execution_count": 64,
   "metadata": {},
   "outputs": [
    {
     "data": {
      "text/html": [
       "<div>\n",
       "<style scoped>\n",
       "    .dataframe tbody tr th:only-of-type {\n",
       "        vertical-align: middle;\n",
       "    }\n",
       "\n",
       "    .dataframe tbody tr th {\n",
       "        vertical-align: top;\n",
       "    }\n",
       "\n",
       "    .dataframe thead th {\n",
       "        text-align: right;\n",
       "    }\n",
       "</style>\n",
       "<table border=\"1\" class=\"dataframe\">\n",
       "  <thead>\n",
       "    <tr style=\"text-align: right;\">\n",
       "      <th></th>\n",
       "      <th>id</th>\n",
       "      <th>hour</th>\n",
       "      <th>hour_bef_temperature</th>\n",
       "      <th>hour_bef_precipitation</th>\n",
       "      <th>hour_bef_windspeed</th>\n",
       "      <th>hour_bef_humidity</th>\n",
       "      <th>hour_bef_visibility</th>\n",
       "      <th>hour_bef_ozone</th>\n",
       "      <th>hour_bef_pm10</th>\n",
       "      <th>hour_bef_pm2.5</th>\n",
       "      <th>count</th>\n",
       "    </tr>\n",
       "  </thead>\n",
       "  <tbody>\n",
       "    <tr>\n",
       "      <th>0</th>\n",
       "      <td>0</td>\n",
       "      <td>7.0</td>\n",
       "      <td>20.7</td>\n",
       "      <td>0.0</td>\n",
       "      <td>1.3</td>\n",
       "      <td>62.0</td>\n",
       "      <td>954.0</td>\n",
       "      <td>0.041</td>\n",
       "      <td>44.0</td>\n",
       "      <td>27.0</td>\n",
       "      <td>102.819497</td>\n",
       "    </tr>\n",
       "    <tr>\n",
       "      <th>1</th>\n",
       "      <td>1</td>\n",
       "      <td>17.0</td>\n",
       "      <td>30.0</td>\n",
       "      <td>0.0</td>\n",
       "      <td>5.4</td>\n",
       "      <td>33.0</td>\n",
       "      <td>1590.0</td>\n",
       "      <td>0.061</td>\n",
       "      <td>49.0</td>\n",
       "      <td>36.0</td>\n",
       "      <td>241.115551</td>\n",
       "    </tr>\n",
       "    <tr>\n",
       "      <th>2</th>\n",
       "      <td>2</td>\n",
       "      <td>13.0</td>\n",
       "      <td>19.0</td>\n",
       "      <td>1.0</td>\n",
       "      <td>2.1</td>\n",
       "      <td>95.0</td>\n",
       "      <td>193.0</td>\n",
       "      <td>0.020</td>\n",
       "      <td>36.0</td>\n",
       "      <td>18.0</td>\n",
       "      <td>69.510939</td>\n",
       "    </tr>\n",
       "    <tr>\n",
       "      <th>3</th>\n",
       "      <td>4</td>\n",
       "      <td>6.0</td>\n",
       "      <td>22.5</td>\n",
       "      <td>0.0</td>\n",
       "      <td>2.5</td>\n",
       "      <td>60.0</td>\n",
       "      <td>1185.0</td>\n",
       "      <td>0.027</td>\n",
       "      <td>52.0</td>\n",
       "      <td>38.0</td>\n",
       "      <td>115.909452</td>\n",
       "    </tr>\n",
       "    <tr>\n",
       "      <th>4</th>\n",
       "      <td>5</td>\n",
       "      <td>22.0</td>\n",
       "      <td>14.6</td>\n",
       "      <td>1.0</td>\n",
       "      <td>3.4</td>\n",
       "      <td>93.0</td>\n",
       "      <td>218.0</td>\n",
       "      <td>0.041</td>\n",
       "      <td>18.0</td>\n",
       "      <td>15.0</td>\n",
       "      <td>101.753974</td>\n",
       "    </tr>\n",
       "  </tbody>\n",
       "</table>\n",
       "</div>"
      ],
      "text/plain": [
       "   id  hour  hour_bef_temperature  hour_bef_precipitation  hour_bef_windspeed  \\\n",
       "0   0   7.0                  20.7                     0.0                 1.3   \n",
       "1   1  17.0                  30.0                     0.0                 5.4   \n",
       "2   2  13.0                  19.0                     1.0                 2.1   \n",
       "3   4   6.0                  22.5                     0.0                 2.5   \n",
       "4   5  22.0                  14.6                     1.0                 3.4   \n",
       "\n",
       "   hour_bef_humidity  hour_bef_visibility  hour_bef_ozone  hour_bef_pm10  \\\n",
       "0               62.0                954.0           0.041           44.0   \n",
       "1               33.0               1590.0           0.061           49.0   \n",
       "2               95.0                193.0           0.020           36.0   \n",
       "3               60.0               1185.0           0.027           52.0   \n",
       "4               93.0                218.0           0.041           18.0   \n",
       "\n",
       "   hour_bef_pm2.5       count  \n",
       "0            27.0  102.819497  \n",
       "1            36.0  241.115551  \n",
       "2            18.0   69.510939  \n",
       "3            38.0  115.909452  \n",
       "4            15.0  101.753974  "
      ]
     },
     "execution_count": 64,
     "metadata": {},
     "output_type": "execute_result"
    }
   ],
   "source": [
    "test2.head()"
   ]
  },
  {
   "cell_type": "code",
   "execution_count": 65,
   "metadata": {},
   "outputs": [],
   "source": [
    "subb=pd.read_csv('submission.csv')\n",
    "subb['count']=test2['count']\n",
    "subb.to_csv('따릉2.csv',index=False)"
   ]
  }
 ],
 "metadata": {
  "kernelspec": {
   "display_name": "Python 3",
   "language": "python",
   "name": "python3"
  },
  "language_info": {
   "codemirror_mode": {
    "name": "ipython",
    "version": 3
   },
   "file_extension": ".py",
   "mimetype": "text/x-python",
   "name": "python",
   "nbconvert_exporter": "python",
   "pygments_lexer": "ipython3",
   "version": "3.10.10 (tags/v3.10.10:aad5f6a, Feb  7 2023, 17:20:36) [MSC v.1929 64 bit (AMD64)]"
  },
  "orig_nbformat": 4,
  "vscode": {
   "interpreter": {
    "hash": "31ae298037946c035a332bdeafb1507103a223d994dc9823826807e317c52d84"
   }
  }
 },
 "nbformat": 4,
 "nbformat_minor": 2
}
