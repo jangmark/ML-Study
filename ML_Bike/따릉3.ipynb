{
 "cells": [
  {
   "cell_type": "code",
   "execution_count": 2,
   "metadata": {},
   "outputs": [],
   "source": [
    "import pandas as pd\n",
    "import seaborn as sns\n",
    "import matplotlib.pyplot as plt\n",
    "from sklearn.model_selection import KFold, StratifiedKFold\n",
    "from sklearn.ensemble import RandomForestRegressor\n",
    "from sklearn.preprocessing import *\n",
    "from sklearn.linear_model import LogisticRegression\n",
    "from sklearn.experimental import enable_iterative_imputer\n",
    "from sklearn.impute import IterativeImputer\n",
    "from sklearn.model_selection import train_test_split\n",
    "from sklearn.tree import *\n",
    "from sklearn.linear_model import *\n",
    "from sklearn.metrics import *\n",
    "import numpy as np\n",
    "from sklearn.model_selection import GridSearchCV\n",
    "from sklearn.pipeline import *\n",
    "train = pd.read_csv('train.csv')\n",
    "test = pd.read_csv('test.csv')"
   ]
  },
  {
   "cell_type": "code",
   "execution_count": 3,
   "metadata": {},
   "outputs": [
    {
     "data": {
      "text/plain": [
       "id                          0\n",
       "hour                        0\n",
       "hour_bef_temperature        2\n",
       "hour_bef_precipitation      2\n",
       "hour_bef_windspeed          9\n",
       "hour_bef_humidity           2\n",
       "hour_bef_visibility         2\n",
       "hour_bef_ozone             76\n",
       "hour_bef_pm10              90\n",
       "hour_bef_pm2.5            117\n",
       "count                       0\n",
       "dtype: int64"
      ]
     },
     "execution_count": 3,
     "metadata": {},
     "output_type": "execute_result"
    }
   ],
   "source": [
    "train.isnull().sum()"
   ]
  },
  {
   "cell_type": "code",
   "execution_count": 4,
   "metadata": {},
   "outputs": [
    {
     "name": "stdout",
     "output_type": "stream",
     "text": [
      "<class 'pandas.core.frame.DataFrame'>\n",
      "RangeIndex: 1459 entries, 0 to 1458\n",
      "Data columns (total 10 columns):\n",
      " #   Column                  Non-Null Count  Dtype\n",
      "---  ------                  --------------  -----\n",
      " 0   hour                    1459 non-null   int64\n",
      " 1   hour_bef_temperature    1459 non-null   int64\n",
      " 2   hour_bef_precipitation  1459 non-null   int64\n",
      " 3   hour_bef_windspeed      1459 non-null   int64\n",
      " 4   hour_bef_humidity       1459 non-null   int64\n",
      " 5   hour_bef_visibility     1459 non-null   int64\n",
      " 6   hour_bef_ozone          1459 non-null   int64\n",
      " 7   hour_bef_pm10           1459 non-null   int64\n",
      " 8   hour_bef_pm2.5          1459 non-null   int64\n",
      " 9   count                   1459 non-null   int64\n",
      "dtypes: int64(10)\n",
      "memory usage: 114.1 KB\n"
     ]
    },
    {
     "name": "stderr",
     "output_type": "stream",
     "text": [
      "c:\\ProgramData\\Anaconda3\\lib\\site-packages\\sklearn\\impute\\_iterative.py:699: ConvergenceWarning: [IterativeImputer] Early stopping criterion not reached.\n",
      "  warnings.warn(\n"
     ]
    }
   ],
   "source": [
    "# IterativeImputer 결측치 없애기\n",
    "train_df = train.copy()\n",
    "\n",
    "colnames=['id','hour',\n",
    "'hour_bef_temperature',\n",
    "'hour_bef_precipitation',\n",
    "'hour_bef_windspeed',\n",
    "'hour_bef_humidity',\n",
    "'hour_bef_visibility',\n",
    "'hour_bef_ozone',\n",
    "'hour_bef_pm10',\n",
    "'hour_bef_pm2.5',\n",
    "'count']\n",
    "\n",
    "imputer = IterativeImputer(random_state=2021)\n",
    "df_im = imputer.fit_transform(train_df)\n",
    "train_df = pd.DataFrame(df_im)\n",
    "train_df.columns = colnames\n",
    "\n",
    "train_df = train_df.astype('int64')\n",
    "train_df = train_df.drop(['id'],axis=1)\n",
    "train_df.info()"
   ]
  },
  {
   "cell_type": "code",
   "execution_count": 5,
   "metadata": {},
   "outputs": [
    {
     "name": "stdout",
     "output_type": "stream",
     "text": [
      "<class 'pandas.core.frame.DataFrame'>\n",
      "RangeIndex: 715 entries, 0 to 714\n",
      "Data columns (total 9 columns):\n",
      " #   Column                  Non-Null Count  Dtype\n",
      "---  ------                  --------------  -----\n",
      " 0   hour                    715 non-null    int64\n",
      " 1   hour_bef_temperature    715 non-null    int64\n",
      " 2   hour_bef_precipitation  715 non-null    int64\n",
      " 3   hour_bef_windspeed      715 non-null    int64\n",
      " 4   hour_bef_humidity       715 non-null    int64\n",
      " 5   hour_bef_visibility     715 non-null    int64\n",
      " 6   hour_bef_ozone          715 non-null    int64\n",
      " 7   hour_bef_pm10           715 non-null    int64\n",
      " 8   hour_bef_pm2.5          715 non-null    int64\n",
      "dtypes: int64(9)\n",
      "memory usage: 50.4 KB\n"
     ]
    }
   ],
   "source": [
    "test = test.copy()\n",
    "\n",
    "colnames=['id','hour',\n",
    "'hour_bef_temperature',\n",
    "'hour_bef_precipitation',\n",
    "'hour_bef_windspeed',\n",
    "'hour_bef_humidity',\n",
    "'hour_bef_visibility',\n",
    "'hour_bef_ozone',\n",
    "'hour_bef_pm10',\n",
    "'hour_bef_pm2.5',\n",
    "]\n",
    "\n",
    "imputer = IterativeImputer(random_state=2021)\n",
    "df_im = imputer.fit_transform(test)\n",
    "test = pd.DataFrame(df_im)\n",
    "test.columns = colnames\n",
    "\n",
    "\n",
    "test=test.astype('int64')\n",
    "test=test.drop(['id'],axis=1)\n",
    "test.info()"
   ]
  },
  {
   "cell_type": "code",
   "execution_count": 6,
   "metadata": {},
   "outputs": [
    {
     "name": "stdout",
     "output_type": "stream",
     "text": [
      "hour 12.0\n",
      "hour_bef_temperature 8.0\n",
      "hour_bef_precipitation 0.0\n",
      "hour_bef_windspeed 2.0\n",
      "hour_bef_humidity 32.5\n",
      "hour_bef_visibility 1114.0\n",
      "hour_bef_ozone 0.0\n",
      "hour_bef_pm10 34.0\n",
      "hour_bef_pm2.5 18.0\n"
     ]
    }
   ],
   "source": [
    "# 이상치 제거하기.\n",
    "\n",
    "colnames2=['hour',\n",
    "'hour_bef_temperature',\n",
    "'hour_bef_precipitation',\n",
    "'hour_bef_windspeed',\n",
    "'hour_bef_humidity',\n",
    "'hour_bef_visibility',\n",
    "'hour_bef_ozone',\n",
    "'hour_bef_pm10',\n",
    "'hour_bef_pm2.5',\n",
    "]\n",
    "\n",
    "\n",
    "train_df2 = train_df.copy()\n",
    "\n",
    "for col in colnames2:\n",
    "    Q1 = train_df2[col].quantile(0.25)\n",
    "    Q3 = train_df2[col].quantile(0.75)\n",
    "    IQR = Q3 - Q1\n",
    "    print(col , IQR)\n",
    "\n",
    "# 이상치 값을 NaN으로 변경\n",
    "    train_df2[col] = np.where((train_df2[col] < Q1 - 1.5*IQR) | (train_df2[col] > Q3 + 1.5*IQR), np.nan, train_df2[col])\n",
    "\n",
    "# NaN 값이 있는 행 제거\n",
    "train_df2 = train_df2.dropna()"
   ]
  },
  {
   "cell_type": "code",
   "execution_count": 7,
   "metadata": {},
   "outputs": [
    {
     "name": "stdout",
     "output_type": "stream",
     "text": [
      "hour 11.5\n",
      "hour_bef_temperature 6.0\n",
      "hour_bef_precipitation 0.0\n",
      "hour_bef_windspeed 2.0\n",
      "hour_bef_humidity 31.5\n",
      "hour_bef_visibility 1191.5\n",
      "hour_bef_ozone 0.0\n",
      "hour_bef_pm10 16.0\n",
      "hour_bef_pm2.5 14.0\n"
     ]
    }
   ],
   "source": [
    "# 이상치 제거하기.\n",
    "\n",
    "colnames2=['hour',\n",
    "'hour_bef_temperature',\n",
    "'hour_bef_precipitation',\n",
    "'hour_bef_windspeed',\n",
    "'hour_bef_humidity',\n",
    "'hour_bef_visibility',\n",
    "'hour_bef_ozone',\n",
    "'hour_bef_pm10',\n",
    "'hour_bef_pm2.5',\n",
    "]\n",
    "\n",
    "\n",
    "test2 = test.copy()\n",
    "\n",
    "for col in colnames2:\n",
    "    Q1 = test[col].quantile(0.25)\n",
    "    Q3 = test[col].quantile(0.75)\n",
    "    IQR = Q3 - Q1\n",
    "    print(col , IQR)\n",
    "\n",
    "# 이상치 값을 NaN으로 변경\n",
    "    test[col] = np.where((test[col] < Q1 - 1.5*IQR) | (test[col] > Q3 + 1.5*IQR), np.nan, test[col])\n",
    "\n",
    "# NaN 값이 있는 행 제거\n",
    "test = test.dropna()"
   ]
  },
  {
   "cell_type": "code",
   "execution_count": 8,
   "metadata": {},
   "outputs": [
    {
     "name": "stdout",
     "output_type": "stream",
     "text": [
      "(1048, 9) (1048,) (263, 9) (263,)\n"
     ]
    }
   ],
   "source": [
    "X = train_df2.drop(['count'],axis=1)\n",
    "y = train_df2['count']\n",
    "test_x = test2 \n",
    "X_train,X_test,y_train,y_test=train_test_split(X,y,test_size=0.2,random_state=156)\n",
    "print(X_train.shape,y_train.shape,X_test.shape,y_test.shape)"
   ]
  },
  {
   "cell_type": "code",
   "execution_count": 9,
   "metadata": {},
   "outputs": [
    {
     "name": "stdout",
     "output_type": "stream",
     "text": [
      "LogisticRegression() rmse :  67.2\n",
      "Ridge() rmse :  51.6\n",
      "Lasso() rmse :  51.6\n",
      "DecisionTreeClassifier() rmse :  58.9\n",
      "RandomForestRegressor() rmse :  38.5\n"
     ]
    }
   ],
   "source": [
    "# StandardScaler \n",
    "def SS_model(df):\n",
    "    model = make_pipeline(StandardScaler(),df())\n",
    "    model.fit(X_train,y_train)\n",
    "    pred_y = model.predict(X_test)\n",
    "    rmse = np.sqrt(mean_squared_error(y_test,pred_y))\n",
    "    print(df(),'rmse : ', round(rmse,1))\n",
    "\n",
    "\n",
    "SS_model(LogisticRegression)\n",
    "SS_model(Ridge)\n",
    "SS_model(Lasso)\n",
    "SS_model(DecisionTreeClassifier)\n",
    "SS_model(RandomForestRegressor)"
   ]
  },
  {
   "cell_type": "code",
   "execution_count": 10,
   "metadata": {},
   "outputs": [
    {
     "name": "stdout",
     "output_type": "stream",
     "text": [
      "LogisticRegression() rmse :  74.7\n",
      "Ridge() rmse :  51.6\n",
      "Lasso() rmse :  52.0\n",
      "DecisionTreeClassifier() rmse :  62.9\n",
      "RandomForestRegressor() rmse :  37.7\n"
     ]
    }
   ],
   "source": [
    "# MinMaxScaler\n",
    "\n",
    "def MM_model(df):\n",
    "    model = make_pipeline(MinMaxScaler(),df())\n",
    "    model.fit(X_train,y_train)\n",
    "    pred_y = model.predict(X_test)\n",
    "    rmse = np.sqrt(mean_squared_error(y_test,pred_y))\n",
    "    print(df(),'rmse : ', round(rmse,1))\n",
    "\n",
    "\n",
    "MM_model(LogisticRegression)\n",
    "MM_model(Ridge)\n",
    "MM_model(Lasso)\n",
    "MM_model(DecisionTreeClassifier)\n",
    "MM_model(RandomForestRegressor)"
   ]
  },
  {
   "cell_type": "code",
   "execution_count": 11,
   "metadata": {},
   "outputs": [
    {
     "name": "stdout",
     "output_type": "stream",
     "text": [
      "LogisticRegression() rmse :  71.2\n",
      "Ridge() rmse :  51.6\n",
      "Lasso() rmse :  51.7\n",
      "DecisionTreeClassifier() rmse :  55.0\n",
      "RandomForestRegressor() rmse :  38.9\n"
     ]
    }
   ],
   "source": [
    "# RobustScaler\n",
    "\n",
    "def RS_model(df):\n",
    "    model = make_pipeline(RobustScaler(),df())\n",
    "    model.fit(X_train,y_train)\n",
    "    pred_y = model.predict(X_test)\n",
    "    rmse = np.sqrt(mean_squared_error(y_test,pred_y))\n",
    "    print(df(),'rmse : ', round(rmse,1))\n",
    "\n",
    "RS_model(LogisticRegression)\n",
    "RS_model(Ridge)\n",
    "RS_model(Lasso)\n",
    "RS_model(DecisionTreeClassifier)\n",
    "RS_model(RandomForestRegressor)"
   ]
  },
  {
   "cell_type": "code",
   "execution_count": 12,
   "metadata": {},
   "outputs": [
    {
     "data": {
      "text/plain": [
       "<function matplotlib.pyplot.show(close=None, block=None)>"
      ]
     },
     "execution_count": 12,
     "metadata": {},
     "output_type": "execute_result"
    },
    {
     "data": {
      "image/png": "[encoded data removed]",
      "text/plain": [
       "<Figure size 1000x800 with 1 Axes>"
      ]
     },
     "metadata": {},
     "output_type": "display_data"
    }
   ],
   "source": [
    "# 가장 rmse 작은 모델 submission 저장\n",
    "\n",
    "model = RandomForestRegressor()\n",
    "model.fit(X,y)\n",
    "\n",
    "importance_val = model.feature_importances_\n",
    "impotance = pd.Series(importance_val,index=X_train.columns)\n",
    "top20 = impotance.sort_values(ascending=False)[:20]\n",
    "plt.figure(figsize=(10,8))\n",
    "plt.title('Importance')\n",
    "sns.barplot(x=top20, y=top20.index)\n",
    "plt.show\n",
    "# pred_y = model.predict(test_x)\n",
    "# submission = pd.read_csv('submission.csv')\n",
    "# submission['count'] = pred_y\n",
    "# submission.to_csv('jang44.csv',index = False)"
   ]
  }
 ],
 "metadata": {
  "kernelspec": {
   "display_name": "base",
   "language": "python",
   "name": "python3"
  },
  "language_info": {
   "codemirror_mode": {
    "name": "ipython",
    "version": 3
   },
   "file_extension": ".py",
   "mimetype": "text/x-python",
   "name": "python",
   "nbconvert_exporter": "python",
   "pygments_lexer": "ipython3",
   "version": "3.9.15 (main, Nov 24 2022, 14:39:17) [MSC v.1916 64 bit (AMD64)]"
  },
  "orig_nbformat": 4,
  "vscode": {
   "interpreter": {
    "hash": "ad2bdc8ecc057115af97d19610ffacc2b4e99fae6737bb82f5d7fb13d2f2c186"
   }
  }
 },
 "nbformat": 4,
 "nbformat_minor": 2
}
